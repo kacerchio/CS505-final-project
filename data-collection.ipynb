{
 "cells": [
  {
   "cell_type": "code",
   "execution_count": 94,
   "metadata": {
    "collapsed": false,
    "scrolled": true
   },
   "outputs": [
    {
     "name": "stdout",
     "output_type": "stream",
     "text": [
      "done\n"
     ]
    }
   ],
   "source": [
    "import pandas as pd \n",
    "import numpy as np \n",
    "# Kristel Tan (ktan@bu.edu) & Nisa Gurung (ngurung@bu.edu)\n",
    "# CS505-final-project : data-collection.py\n",
    "# This file contains scripts for intial results of data collection.\n",
    "\n",
    "movie_df = pd.read_csv('movie_metadata.csv')\n",
    "\n",
    "# Deleting columns that are not useful \n",
    "delete = ['color', 'num_critic_for_reviews', 'actor_3_facebook_likes', 'actor_1_facebook_likes','movie_imdb_link', 'country', 'language', \n",
    "         'aspect_ratio', 'num_user_for_reviews', 'num_voted_users', 'actor_2_facebook_likes', 'content_rating']\n",
    "\n",
    "for d in delete: \n",
    "    del movie_df[d]\n",
    "\n",
    "# Delete rows with empty cells for any column     \n",
    "for c in movie_df: \n",
    "    movie_df[c].replace('', np.nan, inplace=True)\n",
    "    movie_df.dropna(subset=[c], inplace=True)\n",
    "\n",
    "movie_df = movie_df.reset_index(drop=True)\n",
    "\n",
    "genres_set = set() \n",
    "for i in range(len(movie_df)): \n",
    "    g = movie_df['genres'][i].split('|')\n",
    "    genres_set.update(g)\n",
    "\n",
    "genres = list(genres_set)\n",
    "genres = dict.fromkeys(genres)\n",
    "genres_ct = {key: 0 for key in genres} \n",
    "\n",
    "for i in range(len(movie_df)): \n",
    "    g = movie_df['genres'][i].split('|')\n",
    "    for item in g: \n",
    "        if item in genres: \n",
    "            genres_ct[item] += 1 \n",
    "\n",
    "#Get the top five genres \n",
    "sortedCounts = [(genres_ct[key], key) for key in genres_ct]\n",
    "sortedCounts.sort()\n",
    "sortedCounts.reverse() \n",
    "top_genres = [item[1] for item in sortedCounts[:5]] \n",
    "\n",
    "# find the list of index of the rows that need to dropped \n",
    "topg_set = set(top_genres) \n",
    "drop = [] \n",
    "for i in range(len(movie_df)):\n",
    "    g = set(movie_df['genres'][i].split('|'))\n",
    "    if len(set.intersection(g, topg_set)) == 0:\n",
    "        drop.append(i)\n",
    "\n",
    "movie_df = movie_df.drop(movie_df.index[drop])\n",
    "movie_df = movie_df.reset_index(drop=True) \n",
    "movie_df.to_csv('movieClean_metadata.csv')\n",
    "\n"
   ]
  },
  {
   "cell_type": "code",
   "execution_count": null,
   "metadata": {
    "collapsed": true
   },
   "outputs": [],
   "source": []
  },
  {
   "cell_type": "code",
   "execution_count": null,
   "metadata": {
    "collapsed": true
   },
   "outputs": [],
   "source": []
  }
 ],
 "metadata": {
  "anaconda-cloud": {},
  "kernelspec": {
   "display_name": "Python [Root]",
   "language": "python",
   "name": "Python [Root]"
  },
  "language_info": {
   "codemirror_mode": {
    "name": "ipython",
    "version": 3
   },
   "file_extension": ".py",
   "mimetype": "text/x-python",
   "name": "python",
   "nbconvert_exporter": "python",
   "pygments_lexer": "ipython3",
   "version": "3.5.2"
  }
 },
 "nbformat": 4,
 "nbformat_minor": 0
}
